{
 "cells": [
  {
   "cell_type": "markdown",
   "metadata": {},
   "source": [
    "### An exmaple notebook for importing Raman spectra in .spc file format, performing principle component analysis (PCA) and plotting the spectra"
   ]
  },
  {
   "cell_type": "markdown",
   "metadata": {},
   "source": [
    "1. Import Python package that are required for analysis. The 'functions' prefix is pointing to the folder containing the custom functions."
   ]
  },
  {
   "cell_type": "code",
   "execution_count": 2,
   "metadata": {},
   "outputs": [],
   "source": [
    "import pandas as pd # python's no.1 pacakge for manipulating data\n",
    "import glob\n",
    "import os\n",
    "import matplotlib.pyplot as plt # python's plotting package\n",
    "import functions.spc as spc # custom function for reading .spc files and converting to a dataframe\n",
    "import functions.base_corr as base_corr # custom function for performing basline correction of spectra\n",
    "from sklearn.decomposition import PCA # sklearn is python's no.1 package for machine learning\n",
    "from sklearn.preprocessing import StandardScaler"
   ]
  },
  {
   "cell_type": "markdown",
   "metadata": {},
   "source": [
    "2. Define the path (directory) to the folder containing the files."
   ]
  },
  {
   "cell_type": "code",
   "execution_count": 3,
   "metadata": {},
   "outputs": [],
   "source": [
    "path = '/Users/leebarrett/Documents/data_projects/read_raman/data/20131003 Samples C1-12/'"
   ]
  },
  {
   "cell_type": "code",
   "execution_count": 4,
   "metadata": {},
   "outputs": [],
   "source": [
    "if not os.path.exists(path):\n",
    "    raise OSError(f\"Directory: '{path}' not found. Please check directory and try again.\")"
   ]
  },
  {
   "cell_type": "markdown",
   "metadata": {},
   "source": [
    "3. Import all the .spc files from the path."
   ]
  },
  {
   "cell_type": "code",
   "execution_count": 5,
   "metadata": {},
   "outputs": [],
   "source": [
    "files = glob.glob(f\"{path}*.spc\")"
   ]
  },
  {
   "cell_type": "markdown",
   "metadata": {},
   "source": [
    "4. Convert the .spc files to a Pandas dataframe"
   ]
  },
  {
   "cell_type": "code",
   "execution_count": 6,
   "metadata": {},
   "outputs": [
    {
     "name": "stdout",
     "output_type": "stream",
     "text": [
      "gx-y(1)\n",
      "gx-y(1)\n",
      "gx-y(1)\n",
      "gx-y(1)\n",
      "gx-y(1)\n",
      "gx-y(1)\n",
      "gx-y(1)\n",
      "gx-y(1)\n",
      "gx-y(1)\n",
      "gx-y(1)\n",
      "gx-y(1)\n",
      "gx-y(1)\n"
     ]
    }
   ],
   "source": [
    "spc = [spc.read_spc(file, \"wide\") for file in files]"
   ]
  },
  {
   "cell_type": "markdown",
   "metadata": {},
   "source": [
    "5. Join all the dataframes together"
   ]
  },
  {
   "cell_type": "code",
   "execution_count": 7,
   "metadata": {},
   "outputs": [],
   "source": [
    "df = pd.concat(spc).reset_index()"
   ]
  },
  {
   "cell_type": "markdown",
   "metadata": {},
   "source": [
    "6. Get the baseline for each spetrum uing ALS algorithm defined in the base_corr.py module. Parameters passed to .baseline_als_optimized() could be played around with."
   ]
  },
  {
   "cell_type": "code",
   "execution_count": 8,
   "metadata": {},
   "outputs": [],
   "source": [
    "bline = []\n",
    "\n",
    "for index, row in df.iloc[:, 1:].iterrows():\n",
    "\n",
    "    bline.append(\n",
    "        base_corr.baseline_als_optimized(row.values, 10000, 0.0025)\n",
    "    )\n"
   ]
  },
  {
   "cell_type": "markdown",
   "metadata": {},
   "source": [
    "7. Perform basline correction on original data."
   ]
  },
  {
   "cell_type": "code",
   "execution_count": 9,
   "metadata": {},
   "outputs": [],
   "source": [
    "bcorr = []\n",
    "\n",
    "for index, row in df.iloc[:, 1:].iterrows():\n",
    "    bcorr.append(\n",
    "        row.values-bline[index]\n",
    "        )"
   ]
  },
  {
   "cell_type": "code",
   "execution_count": 10,
   "metadata": {},
   "outputs": [
    {
     "data": {
      "text/plain": [
       "[array([ 8.9477978 , 10.14140153, 11.33500302, ..., 49.32648965,\n",
       "        53.57489046, 57.82327682]),\n",
       " array([ 6.09753093,  7.37267345,  8.64781444, ..., 53.43006352,\n",
       "        56.67785989, 58.92564154]),\n",
       " array([10.37430364, 11.53262697, 11.6909477 , ..., 28.25163136,\n",
       "        30.55663029, 31.86162125]),\n",
       " array([11.31283611, 12.56618215, 13.81952537, ..., 43.15208925,\n",
       "        46.27168698, 48.39127262]),\n",
       " array([ 4.37159091,  5.56361707,  6.75564214, ..., 42.67685838,\n",
       "        45.97909681, 47.28132343]),\n",
       " array([ 3.10125826,  3.29080975,  4.48036047, ..., 51.31217759,\n",
       "        55.41628284, 58.52037345]),\n",
       " array([ 6.85065827,  7.10241368,  8.35416737, ..., 48.25294949,\n",
       "        51.54889865, 52.84483461]),\n",
       " array([ 9.03562274, 10.25478203, 12.47393907, ..., 37.40998747,\n",
       "        40.58303792, 42.75607768]),\n",
       " array([11.35875518, 11.54384006, 11.7289221 , ..., 46.31305712,\n",
       "        50.50593911, 53.69880767]),\n",
       " array([ 6.442428  ,  7.78088537, 10.11934113, ..., 67.52195682,\n",
       "        72.35150443, 76.18103301]),\n",
       " array([ 6.4505682 ,  7.70540071, 10.9602316 , ..., 47.7008679 ,\n",
       "        50.80251973, 52.90415832]),\n",
       " array([10.05078657, 10.27219856, 11.49360804, ..., 53.48329004,\n",
       "        55.67678982, 56.87027538])]"
      ]
     },
     "execution_count": 10,
     "metadata": {},
     "output_type": "execute_result"
    }
   ],
   "source": [
    "bcorr"
   ]
  },
  {
   "cell_type": "markdown",
   "metadata": {},
   "source": [
    "8. Create new dataframe with basline corrected spectra."
   ]
  },
  {
   "cell_type": "code",
   "execution_count": 11,
   "metadata": {},
   "outputs": [
    {
     "data": {
      "text/html": [
       "<div>\n",
       "<style scoped>\n",
       "    .dataframe tbody tr th:only-of-type {\n",
       "        vertical-align: middle;\n",
       "    }\n",
       "\n",
       "    .dataframe tbody tr th {\n",
       "        vertical-align: top;\n",
       "    }\n",
       "\n",
       "    .dataframe thead th {\n",
       "        text-align: right;\n",
       "    }\n",
       "</style>\n",
       "<table border=\"1\" class=\"dataframe\">\n",
       "  <thead>\n",
       "    <tr style=\"text-align: right;\">\n",
       "      <th></th>\n",
       "      <th>1000.0</th>\n",
       "      <th>1000.5</th>\n",
       "      <th>1001.0</th>\n",
       "      <th>1001.5</th>\n",
       "      <th>1002.0</th>\n",
       "      <th>1002.5</th>\n",
       "      <th>1003.0</th>\n",
       "      <th>1003.5</th>\n",
       "      <th>1004.0</th>\n",
       "      <th>1004.5</th>\n",
       "      <th>...</th>\n",
       "      <th>1595.5</th>\n",
       "      <th>1596.0</th>\n",
       "      <th>1596.5</th>\n",
       "      <th>1597.0</th>\n",
       "      <th>1597.5</th>\n",
       "      <th>1598.0</th>\n",
       "      <th>1598.5</th>\n",
       "      <th>1599.0</th>\n",
       "      <th>1599.5</th>\n",
       "      <th>1600.0</th>\n",
       "    </tr>\n",
       "  </thead>\n",
       "  <tbody>\n",
       "    <tr>\n",
       "      <th>0</th>\n",
       "      <td>8.947798</td>\n",
       "      <td>10.141402</td>\n",
       "      <td>11.335003</td>\n",
       "      <td>13.528598</td>\n",
       "      <td>14.722177</td>\n",
       "      <td>16.915732</td>\n",
       "      <td>17.109246</td>\n",
       "      <td>18.302700</td>\n",
       "      <td>18.496073</td>\n",
       "      <td>19.689335</td>\n",
       "      <td>...</td>\n",
       "      <td>25.583549</td>\n",
       "      <td>26.833432</td>\n",
       "      <td>28.082890</td>\n",
       "      <td>29.332008</td>\n",
       "      <td>33.580862</td>\n",
       "      <td>38.829521</td>\n",
       "      <td>44.078047</td>\n",
       "      <td>49.326490</td>\n",
       "      <td>53.574890</td>\n",
       "      <td>57.823277</td>\n",
       "    </tr>\n",
       "    <tr>\n",
       "      <th>1</th>\n",
       "      <td>6.097531</td>\n",
       "      <td>7.372673</td>\n",
       "      <td>8.647814</td>\n",
       "      <td>10.922951</td>\n",
       "      <td>12.198076</td>\n",
       "      <td>13.473183</td>\n",
       "      <td>13.748260</td>\n",
       "      <td>13.023293</td>\n",
       "      <td>13.298262</td>\n",
       "      <td>13.573148</td>\n",
       "      <td>...</td>\n",
       "      <td>29.691072</td>\n",
       "      <td>32.940469</td>\n",
       "      <td>36.189399</td>\n",
       "      <td>39.437957</td>\n",
       "      <td>42.686231</td>\n",
       "      <td>46.934298</td>\n",
       "      <td>50.182224</td>\n",
       "      <td>53.430064</td>\n",
       "      <td>56.677860</td>\n",
       "      <td>58.925642</td>\n",
       "    </tr>\n",
       "    <tr>\n",
       "      <th>2</th>\n",
       "      <td>10.374304</td>\n",
       "      <td>11.532627</td>\n",
       "      <td>11.690948</td>\n",
       "      <td>11.849260</td>\n",
       "      <td>13.007557</td>\n",
       "      <td>13.165825</td>\n",
       "      <td>13.324051</td>\n",
       "      <td>13.482216</td>\n",
       "      <td>12.640300</td>\n",
       "      <td>12.798278</td>\n",
       "      <td>...</td>\n",
       "      <td>15.114269</td>\n",
       "      <td>17.420126</td>\n",
       "      <td>18.725732</td>\n",
       "      <td>21.031140</td>\n",
       "      <td>22.336396</td>\n",
       "      <td>24.641540</td>\n",
       "      <td>26.946609</td>\n",
       "      <td>28.251631</td>\n",
       "      <td>30.556630</td>\n",
       "      <td>31.861621</td>\n",
       "    </tr>\n",
       "    <tr>\n",
       "      <th>3</th>\n",
       "      <td>11.312836</td>\n",
       "      <td>12.566182</td>\n",
       "      <td>13.819525</td>\n",
       "      <td>16.072860</td>\n",
       "      <td>17.326176</td>\n",
       "      <td>18.579461</td>\n",
       "      <td>18.832696</td>\n",
       "      <td>19.085859</td>\n",
       "      <td>19.338923</td>\n",
       "      <td>20.591856</td>\n",
       "      <td>...</td>\n",
       "      <td>22.311317</td>\n",
       "      <td>25.432212</td>\n",
       "      <td>28.552730</td>\n",
       "      <td>30.672947</td>\n",
       "      <td>33.792934</td>\n",
       "      <td>36.912752</td>\n",
       "      <td>40.032456</td>\n",
       "      <td>43.152089</td>\n",
       "      <td>46.271687</td>\n",
       "      <td>48.391273</td>\n",
       "    </tr>\n",
       "    <tr>\n",
       "      <th>4</th>\n",
       "      <td>4.371591</td>\n",
       "      <td>5.563617</td>\n",
       "      <td>6.755642</td>\n",
       "      <td>7.947664</td>\n",
       "      <td>9.139677</td>\n",
       "      <td>10.331677</td>\n",
       "      <td>11.523655</td>\n",
       "      <td>12.715599</td>\n",
       "      <td>12.907496</td>\n",
       "      <td>14.099328</td>\n",
       "      <td>...</td>\n",
       "      <td>22.557632</td>\n",
       "      <td>25.861161</td>\n",
       "      <td>29.164312</td>\n",
       "      <td>32.467164</td>\n",
       "      <td>34.769786</td>\n",
       "      <td>38.072242</td>\n",
       "      <td>40.374585</td>\n",
       "      <td>42.676858</td>\n",
       "      <td>45.979097</td>\n",
       "      <td>47.281323</td>\n",
       "    </tr>\n",
       "  </tbody>\n",
       "</table>\n",
       "<p>5 rows × 1201 columns</p>\n",
       "</div>"
      ],
      "text/plain": [
       "      1000.0     1000.5     1001.0     1001.5     1002.0     1002.5  \\\n",
       "0   8.947798  10.141402  11.335003  13.528598  14.722177  16.915732   \n",
       "1   6.097531   7.372673   8.647814  10.922951  12.198076  13.473183   \n",
       "2  10.374304  11.532627  11.690948  11.849260  13.007557  13.165825   \n",
       "3  11.312836  12.566182  13.819525  16.072860  17.326176  18.579461   \n",
       "4   4.371591   5.563617   6.755642   7.947664   9.139677  10.331677   \n",
       "\n",
       "      1003.0     1003.5     1004.0     1004.5  ...     1595.5     1596.0  \\\n",
       "0  17.109246  18.302700  18.496073  19.689335  ...  25.583549  26.833432   \n",
       "1  13.748260  13.023293  13.298262  13.573148  ...  29.691072  32.940469   \n",
       "2  13.324051  13.482216  12.640300  12.798278  ...  15.114269  17.420126   \n",
       "3  18.832696  19.085859  19.338923  20.591856  ...  22.311317  25.432212   \n",
       "4  11.523655  12.715599  12.907496  14.099328  ...  22.557632  25.861161   \n",
       "\n",
       "      1596.5     1597.0     1597.5     1598.0     1598.5     1599.0  \\\n",
       "0  28.082890  29.332008  33.580862  38.829521  44.078047  49.326490   \n",
       "1  36.189399  39.437957  42.686231  46.934298  50.182224  53.430064   \n",
       "2  18.725732  21.031140  22.336396  24.641540  26.946609  28.251631   \n",
       "3  28.552730  30.672947  33.792934  36.912752  40.032456  43.152089   \n",
       "4  29.164312  32.467164  34.769786  38.072242  40.374585  42.676858   \n",
       "\n",
       "      1599.5     1600.0  \n",
       "0  53.574890  57.823277  \n",
       "1  56.677860  58.925642  \n",
       "2  30.556630  31.861621  \n",
       "3  46.271687  48.391273  \n",
       "4  45.979097  47.281323  \n",
       "\n",
       "[5 rows x 1201 columns]"
      ]
     },
     "metadata": {},
     "output_type": "display_data"
    }
   ],
   "source": [
    "df2 = pd.DataFrame(bcorr, columns=df.columns[1:])\n",
    "\n",
    "display(df2.head())"
   ]
  },
  {
   "cell_type": "markdown",
   "metadata": {},
   "source": [
    "9. Plot the baseline corrected spectra."
   ]
  },
  {
   "cell_type": "code",
   "execution_count": 12,
   "metadata": {},
   "outputs": [
    {
     "data": {
      "image/png": "[encoded data removed]",
      "text/plain": [
       "<Figure size 640x480 with 1 Axes>"
      ]
     },
     "metadata": {},
     "output_type": "display_data"
    }
   ],
   "source": [
    "for index, row in df2.iterrows():\n",
    "    plt.plot(row.keys(), row.values, label=index+1)\n",
    "plt.title(\"Basline corrected spectra als algorithm\")\n",
    "plt.xlabel(\"Wavelength\")\n",
    "plt.ylabel(\"Raman Shift\")\n",
    "plt.legend()\n",
    "plt.show()"
   ]
  },
  {
   "cell_type": "markdown",
   "metadata": {},
   "source": [
    "9. Scale the data for PCA preparation."
   ]
  },
  {
   "cell_type": "code",
   "execution_count": 13,
   "metadata": {},
   "outputs": [
    {
     "name": "stdout",
     "output_type": "stream",
     "text": [
      "[[ 0.41686857  0.52432787  0.46661058 ...  0.21011071  0.28548079\n",
      "   0.45630822]\n",
      " [-0.68165674 -0.52701005 -0.59595159 ...  0.65827205  0.60805782\n",
      "   0.56444419]\n",
      " [ 0.96666017  1.05260223  0.60735744 ... -2.09152614 -2.10744063\n",
      "  -2.09038846]\n",
      " ...\n",
      " [-0.54872949 -0.37200433 -0.01408376 ...  2.1972822   2.23745115\n",
      "   2.25710389]\n",
      " [-0.54559216 -0.40066727  0.3184193  ...  0.03257258 -0.00272802\n",
      "  -0.02623045]\n",
      " [ 0.841973    0.57399396  0.52932583 ...  0.66408505  0.50398905\n",
      "   0.36282399]]\n"
     ]
    }
   ],
   "source": [
    "scaled = StandardScaler().fit_transform(df2.values)\n",
    "\n",
    "print(scaled)"
   ]
  },
  {
   "cell_type": "markdown",
   "metadata": {},
   "source": [
    "10. Create the pca object."
   ]
  },
  {
   "cell_type": "code",
   "execution_count": 14,
   "metadata": {},
   "outputs": [],
   "source": [
    "# Fit PCA model\n",
    "pca = PCA()"
   ]
  },
  {
   "cell_type": "markdown",
   "metadata": {},
   "source": [
    "11. Perform PCA on the baseline corrected spectra."
   ]
  },
  {
   "cell_type": "code",
   "execution_count": 15,
   "metadata": {},
   "outputs": [
    {
     "name": "stdout",
     "output_type": "stream",
     "text": [
      "[[-1.41363290e+00 -1.05185695e+01 -5.59228948e+00  5.81748917e+00\n",
      "  -7.29553307e+00  1.14370359e+01  1.24795777e+01  8.90375693e-01\n",
      "   2.30965213e+00  3.75694571e-01  2.56894914e+00  4.84830653e-15]\n",
      " [-4.96658837e+00 -1.23779082e+01  3.16907191e+00 -8.56127582e+00\n",
      "  -7.27399848e+00 -1.26687720e+00 -6.34303193e+00 -6.73591220e+00\n",
      "  -6.77413757e+00 -7.41455227e+00  3.55417215e+00  4.84830653e-15]\n",
      " [-4.11401222e+01  6.69913305e+00  9.66826453e-01  3.31246241e+00\n",
      "   4.96125043e+00  3.00548385e+00 -3.59264839e+00  2.44370051e+00\n",
      "  -7.01981483e+00  6.67387490e+00  8.55924587e+00  4.84830653e-15]\n",
      " [-3.37685472e+00  1.25777221e+00  2.81452798e-01 -9.41947864e+00\n",
      "   9.14783698e+00 -4.86449890e-01 -4.16268585e-02 -4.12790368e+00\n",
      "   1.36106623e+01 -1.63901868e+00  5.43071624e+00  4.84830653e-15]\n",
      " [-1.26524409e+01  4.47075422e+00 -1.12423918e+01  1.29356391e+01\n",
      "  -1.62793823e+00 -5.21661631e+00 -4.97544497e+00  7.07562889e+00\n",
      "   2.92968586e+00 -8.72748316e+00  6.99969337e-02  4.84830653e-15]]\n"
     ]
    }
   ],
   "source": [
    "pca_dt = pca.fit_transform(scaled)\n",
    "print(pca_dt[:5])"
   ]
  },
  {
   "cell_type": "markdown",
   "metadata": {},
   "source": [
    "12. Create new dataframe for PCA results."
   ]
  },
  {
   "cell_type": "code",
   "execution_count": 16,
   "metadata": {},
   "outputs": [
    {
     "data": {
      "text/html": [
       "<div>\n",
       "<style scoped>\n",
       "    .dataframe tbody tr th:only-of-type {\n",
       "        vertical-align: middle;\n",
       "    }\n",
       "\n",
       "    .dataframe tbody tr th {\n",
       "        vertical-align: top;\n",
       "    }\n",
       "\n",
       "    .dataframe thead th {\n",
       "        text-align: right;\n",
       "    }\n",
       "</style>\n",
       "<table border=\"1\" class=\"dataframe\">\n",
       "  <thead>\n",
       "    <tr style=\"text-align: right;\">\n",
       "      <th></th>\n",
       "      <th>PC1</th>\n",
       "      <th>PC2</th>\n",
       "      <th>PC3</th>\n",
       "      <th>PC4</th>\n",
       "      <th>PC5</th>\n",
       "      <th>PC6</th>\n",
       "      <th>PC7</th>\n",
       "      <th>PC8</th>\n",
       "      <th>PC9</th>\n",
       "      <th>PC10</th>\n",
       "      <th>PC11</th>\n",
       "      <th>PC12</th>\n",
       "    </tr>\n",
       "  </thead>\n",
       "  <tbody>\n",
       "    <tr>\n",
       "      <th>0</th>\n",
       "      <td>-1.413633</td>\n",
       "      <td>-10.518569</td>\n",
       "      <td>-5.592289</td>\n",
       "      <td>5.817489</td>\n",
       "      <td>-7.295533</td>\n",
       "      <td>11.437036</td>\n",
       "      <td>12.479578</td>\n",
       "      <td>0.890376</td>\n",
       "      <td>2.309652</td>\n",
       "      <td>0.375695</td>\n",
       "      <td>2.568949</td>\n",
       "      <td>4.848307e-15</td>\n",
       "    </tr>\n",
       "    <tr>\n",
       "      <th>1</th>\n",
       "      <td>-4.966588</td>\n",
       "      <td>-12.377908</td>\n",
       "      <td>3.169072</td>\n",
       "      <td>-8.561276</td>\n",
       "      <td>-7.273998</td>\n",
       "      <td>-1.266877</td>\n",
       "      <td>-6.343032</td>\n",
       "      <td>-6.735912</td>\n",
       "      <td>-6.774138</td>\n",
       "      <td>-7.414552</td>\n",
       "      <td>3.554172</td>\n",
       "      <td>4.848307e-15</td>\n",
       "    </tr>\n",
       "    <tr>\n",
       "      <th>2</th>\n",
       "      <td>-41.140122</td>\n",
       "      <td>6.699133</td>\n",
       "      <td>0.966826</td>\n",
       "      <td>3.312462</td>\n",
       "      <td>4.961250</td>\n",
       "      <td>3.005484</td>\n",
       "      <td>-3.592648</td>\n",
       "      <td>2.443701</td>\n",
       "      <td>-7.019815</td>\n",
       "      <td>6.673875</td>\n",
       "      <td>8.559246</td>\n",
       "      <td>4.848307e-15</td>\n",
       "    </tr>\n",
       "    <tr>\n",
       "      <th>3</th>\n",
       "      <td>-3.376855</td>\n",
       "      <td>1.257772</td>\n",
       "      <td>0.281453</td>\n",
       "      <td>-9.419479</td>\n",
       "      <td>9.147837</td>\n",
       "      <td>-0.486450</td>\n",
       "      <td>-0.041627</td>\n",
       "      <td>-4.127904</td>\n",
       "      <td>13.610662</td>\n",
       "      <td>-1.639019</td>\n",
       "      <td>5.430716</td>\n",
       "      <td>4.848307e-15</td>\n",
       "    </tr>\n",
       "    <tr>\n",
       "      <th>4</th>\n",
       "      <td>-12.652441</td>\n",
       "      <td>4.470754</td>\n",
       "      <td>-11.242392</td>\n",
       "      <td>12.935639</td>\n",
       "      <td>-1.627938</td>\n",
       "      <td>-5.216616</td>\n",
       "      <td>-4.975445</td>\n",
       "      <td>7.075629</td>\n",
       "      <td>2.929686</td>\n",
       "      <td>-8.727483</td>\n",
       "      <td>0.069997</td>\n",
       "      <td>4.848307e-15</td>\n",
       "    </tr>\n",
       "    <tr>\n",
       "      <th>5</th>\n",
       "      <td>14.277830</td>\n",
       "      <td>22.746623</td>\n",
       "      <td>1.872603</td>\n",
       "      <td>0.125297</td>\n",
       "      <td>-6.253164</td>\n",
       "      <td>3.286355</td>\n",
       "      <td>3.411038</td>\n",
       "      <td>-8.826048</td>\n",
       "      <td>-1.851917</td>\n",
       "      <td>-2.140856</td>\n",
       "      <td>-1.907213</td>\n",
       "      <td>4.848307e-15</td>\n",
       "    </tr>\n",
       "    <tr>\n",
       "      <th>6</th>\n",
       "      <td>-11.284798</td>\n",
       "      <td>1.304846</td>\n",
       "      <td>6.321942</td>\n",
       "      <td>-8.490855</td>\n",
       "      <td>-5.011890</td>\n",
       "      <td>9.523280</td>\n",
       "      <td>-8.165903</td>\n",
       "      <td>8.883933</td>\n",
       "      <td>3.368178</td>\n",
       "      <td>1.752524</td>\n",
       "      <td>-6.729231</td>\n",
       "      <td>4.848307e-15</td>\n",
       "    </tr>\n",
       "    <tr>\n",
       "      <th>7</th>\n",
       "      <td>-17.404073</td>\n",
       "      <td>-0.185094</td>\n",
       "      <td>-4.988616</td>\n",
       "      <td>-9.843842</td>\n",
       "      <td>11.065550</td>\n",
       "      <td>-3.188409</td>\n",
       "      <td>9.671098</td>\n",
       "      <td>3.406802</td>\n",
       "      <td>-6.695559</td>\n",
       "      <td>-3.060768</td>\n",
       "      <td>-5.771544</td>\n",
       "      <td>4.848307e-15</td>\n",
       "    </tr>\n",
       "    <tr>\n",
       "      <th>8</th>\n",
       "      <td>-5.327133</td>\n",
       "      <td>-3.347730</td>\n",
       "      <td>-13.525542</td>\n",
       "      <td>-2.860324</td>\n",
       "      <td>-7.456799</td>\n",
       "      <td>-9.511717</td>\n",
       "      <td>-1.789940</td>\n",
       "      <td>-4.329010</td>\n",
       "      <td>1.936761</td>\n",
       "      <td>9.473859</td>\n",
       "      <td>-3.268145</td>\n",
       "      <td>4.848307e-15</td>\n",
       "    </tr>\n",
       "    <tr>\n",
       "      <th>9</th>\n",
       "      <td>79.596925</td>\n",
       "      <td>-0.379055</td>\n",
       "      <td>-2.501263</td>\n",
       "      <td>-1.459826</td>\n",
       "      <td>3.610698</td>\n",
       "      <td>-0.255208</td>\n",
       "      <td>-2.133338</td>\n",
       "      <td>5.778388</td>\n",
       "      <td>-3.430775</td>\n",
       "      <td>2.067652</td>\n",
       "      <td>3.265165</td>\n",
       "      <td>4.848307e-15</td>\n",
       "    </tr>\n",
       "    <tr>\n",
       "      <th>10</th>\n",
       "      <td>5.495621</td>\n",
       "      <td>-7.987715</td>\n",
       "      <td>5.025477</td>\n",
       "      <td>13.582411</td>\n",
       "      <td>10.576924</td>\n",
       "      <td>3.746613</td>\n",
       "      <td>-4.705079</td>\n",
       "      <td>-8.433394</td>\n",
       "      <td>-0.261724</td>\n",
       "      <td>1.374980</td>\n",
       "      <td>-6.060412</td>\n",
       "      <td>4.848307e-15</td>\n",
       "    </tr>\n",
       "    <tr>\n",
       "      <th>11</th>\n",
       "      <td>-1.804733</td>\n",
       "      <td>-1.683056</td>\n",
       "      <td>20.212730</td>\n",
       "      <td>4.862304</td>\n",
       "      <td>-4.442936</td>\n",
       "      <td>-11.073491</td>\n",
       "      <td>6.185299</td>\n",
       "      <td>3.973441</td>\n",
       "      <td>1.878989</td>\n",
       "      <td>1.264094</td>\n",
       "      <td>0.288300</td>\n",
       "      <td>4.848307e-15</td>\n",
       "    </tr>\n",
       "  </tbody>\n",
       "</table>\n",
       "</div>"
      ],
      "text/plain": [
       "          PC1        PC2        PC3        PC4        PC5        PC6  \\\n",
       "0   -1.413633 -10.518569  -5.592289   5.817489  -7.295533  11.437036   \n",
       "1   -4.966588 -12.377908   3.169072  -8.561276  -7.273998  -1.266877   \n",
       "2  -41.140122   6.699133   0.966826   3.312462   4.961250   3.005484   \n",
       "3   -3.376855   1.257772   0.281453  -9.419479   9.147837  -0.486450   \n",
       "4  -12.652441   4.470754 -11.242392  12.935639  -1.627938  -5.216616   \n",
       "5   14.277830  22.746623   1.872603   0.125297  -6.253164   3.286355   \n",
       "6  -11.284798   1.304846   6.321942  -8.490855  -5.011890   9.523280   \n",
       "7  -17.404073  -0.185094  -4.988616  -9.843842  11.065550  -3.188409   \n",
       "8   -5.327133  -3.347730 -13.525542  -2.860324  -7.456799  -9.511717   \n",
       "9   79.596925  -0.379055  -2.501263  -1.459826   3.610698  -0.255208   \n",
       "10   5.495621  -7.987715   5.025477  13.582411  10.576924   3.746613   \n",
       "11  -1.804733  -1.683056  20.212730   4.862304  -4.442936 -11.073491   \n",
       "\n",
       "          PC7       PC8        PC9      PC10      PC11          PC12  \n",
       "0   12.479578  0.890376   2.309652  0.375695  2.568949  4.848307e-15  \n",
       "1   -6.343032 -6.735912  -6.774138 -7.414552  3.554172  4.848307e-15  \n",
       "2   -3.592648  2.443701  -7.019815  6.673875  8.559246  4.848307e-15  \n",
       "3   -0.041627 -4.127904  13.610662 -1.639019  5.430716  4.848307e-15  \n",
       "4   -4.975445  7.075629   2.929686 -8.727483  0.069997  4.848307e-15  \n",
       "5    3.411038 -8.826048  -1.851917 -2.140856 -1.907213  4.848307e-15  \n",
       "6   -8.165903  8.883933   3.368178  1.752524 -6.729231  4.848307e-15  \n",
       "7    9.671098  3.406802  -6.695559 -3.060768 -5.771544  4.848307e-15  \n",
       "8   -1.789940 -4.329010   1.936761  9.473859 -3.268145  4.848307e-15  \n",
       "9   -2.133338  5.778388  -3.430775  2.067652  3.265165  4.848307e-15  \n",
       "10  -4.705079 -8.433394  -0.261724  1.374980 -6.060412  4.848307e-15  \n",
       "11   6.185299  3.973441   1.878989  1.264094  0.288300  4.848307e-15  "
      ]
     },
     "metadata": {},
     "output_type": "display_data"
    }
   ],
   "source": [
    "pca_df = pd.DataFrame(pca_dt, columns=[f\"PC{x + 1}\" for x, y in enumerate(pca_dt)])\n",
    "\n",
    "display(pca_df)"
   ]
  },
  {
   "cell_type": "markdown",
   "metadata": {},
   "source": [
    "13. Create PCA plot of PC1 vs PC2."
   ]
  },
  {
   "cell_type": "code",
   "execution_count": 17,
   "metadata": {},
   "outputs": [
    {
     "data": {
      "image/png": "[encoded data removed]",
      "text/plain": [
       "<Figure size 640x480 with 1 Axes>"
      ]
     },
     "metadata": {},
     "output_type": "display_data"
    }
   ],
   "source": [
    "\n",
    "labels = pca_df.index.values\n",
    "\n",
    "for x, y, z in zip(pca_df[\"PC1\"], pca_df[\"PC2\"], labels):\n",
    "\n",
    "    plt.plot(x, y, marker=\".\", linestyle='', label=z+1)\n",
    "plt.xlabel(\"PC1\")\n",
    "plt.ylabel(\"PC2\")\n",
    "plt.title(\"Principal Component Analysis of Raman Spectra\")\n",
    "plt.legend(loc=\"best\")\n",
    "plt.show()"
   ]
  },
  {
   "cell_type": "markdown",
   "metadata": {},
   "source": [
    "14. Get the varaince values (as a percentage) from the PCA data."
   ]
  },
  {
   "cell_type": "code",
   "execution_count": 18,
   "metadata": {},
   "outputs": [],
   "source": [
    "pca_var = pca.explained_variance_ratio_*100"
   ]
  },
  {
   "cell_type": "markdown",
   "metadata": {},
   "source": [
    "15. Plot the PCA variance as a bar chart. Most of the variance can be attributed to PC1. "
   ]
  },
  {
   "cell_type": "code",
   "execution_count": 19,
   "metadata": {},
   "outputs": [
    {
     "data": {
      "image/png": "[encoded data removed]",
      "text/plain": [
       "<Figure size 640x480 with 1 Axes>"
      ]
     },
     "metadata": {},
     "output_type": "display_data"
    }
   ],
   "source": [
    "plt.bar(x=[f\"PC{x+1}\" for x, y in enumerate(pca_var)], height=pca_var)\n",
    "plt.ylabel(\"Explained Variance (%)\")\n",
    "plt.xlabel(\"Principal Component\")\n",
    "plt.show()"
   ]
  },
  {
   "cell_type": "code",
   "execution_count": null,
   "metadata": {},
   "outputs": [],
   "source": []
  }
 ],
 "metadata": {
  "kernelspec": {
   "display_name": "Python 3.9.7 ('base')",
   "language": "python",
   "name": "python3"
  },
  "language_info": {
   "codemirror_mode": {
    "name": "ipython",
    "version": 3
   },
   "file_extension": ".py",
   "mimetype": "text/x-python",
   "name": "python",
   "nbconvert_exporter": "python",
   "pygments_lexer": "ipython3",
   "version": "3.9.13"
  },
  "orig_nbformat": 4,
  "vscode": {
   "interpreter": {
    "hash": "1ebd42a5a388c096f9f490269a3e975bfaa1494d3c823c8f6407b0580eafdd24"
   }
  }
 },
 "nbformat": 4,
 "nbformat_minor": 2
}
